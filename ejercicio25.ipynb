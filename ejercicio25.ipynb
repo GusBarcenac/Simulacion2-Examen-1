{
  "nbformat": 4,
  "nbformat_minor": 0,
  "metadata": {
    "colab": {
      "provenance": [],
      "authorship_tag": "ABX9TyOELtrpSmGOZU6c79tOtYbB",
      "include_colab_link": true
    },
    "kernelspec": {
      "name": "python3",
      "display_name": "Python 3"
    },
    "language_info": {
      "name": "python"
    }
  },
  "cells": [
    {
      "cell_type": "markdown",
      "metadata": {
        "id": "view-in-github",
        "colab_type": "text"
      },
      "source": [
        "<a href=\"https://colab.research.google.com/github/GusBarcenac/Simulacion2-Examen-1/blob/main/ejercicio25.ipynb\" target=\"_parent\"><img src=\"https://colab.research.google.com/assets/colab-badge.svg\" alt=\"Open In Colab\"/></a>"
      ]
    },
    {
      "cell_type": "markdown",
      "source": [
        "**EJERCICIO 25**\n",
        "\n",
        "Un quiosquero vende periódicos a 1.10 euros cada uno. Cada periódico le cuesta al quiosquero 0.90 euros. Las ventas de periódicos del quiosquero a partir de su experiencia se refleja en la tabla siguiente.\n",
        "\n",
        "Periodicos = | 30 , 40 , 50 , 60 , 70 |\n",
        "\n",
        "---\n",
        "\n",
        " f(x) =      | 20% ,   25% ,   25%  ,  20%  ,  %70  |\n",
        "\n",
        "La tabla recoge por ejemplo que el 20% del tiempo las ventas han sido de 30 periódicos.\n",
        "Teniendo en cuenta el coste de 0,20 euros por venta perdida y el coste de 0,10 euros por el reciclaje de cada periódico no vendido, determine el beneficio promedio diario si pide 50 periódicos cada día.\n"
      ],
      "metadata": {
        "id": "yB3aFMcpyCdI"
      }
    },
    {
      "cell_type": "markdown",
      "source": [
        "**SOLUCION:**\n",
        "\n",
        "1.La variable es determinada por el número de periodicos vendidos.\n",
        "\n",
        "2.La distribución se obtiene a partir de los datos historicos.\n",
        "\n",
        "3.La distribución enumerada es:[0.20], [0.20+0.25=0.45], [0.45+0.25=0.70], [0.70+0.20=0.90], [0.90+ 0.10=1]\n",
        "\n",
        "F(x)= [0.20, 0.45, 0.70, 0.90, 1]\n",
        "\n",
        "4.Intervalos generados: [0 a 0.19], [0.20 a 0.44], [0.45 a 0.69], [0.70 a 0.89] [0.90 a 1]\n",
        "\n",
        "5.Generación de números aleatorios x1 ~ U(0,1)\n",
        "\n",
        "\n"
      ],
      "metadata": {
        "id": "YDCLxy5d4agt"
      }
    },
    {
      "cell_type": "code",
      "source": [
        "import numpy as np\n",
        "import random\n",
        "import matplotlib.pyplot as plt\n",
        "from scipy.stats import norm"
      ],
      "metadata": {
        "id": "reecRoz86Ovh"
      },
      "execution_count": 1,
      "outputs": []
    },
    {
      "cell_type": "code",
      "source": [
        "pedido=50 #cantidad de periódico solicitado.\n",
        "puv=1.10 #Precio unitario de venta.\n",
        "cua=0.90 #Costo unitario de adquisicón.\n",
        "cur=0.10 # Costo unitario de reciclaje.\n",
        "cvp=0.20 # Costo de venta perdida.\n",
        "bp=0 # beneficio promedio."
      ],
      "metadata": {
        "id": "gkneSjfs6YNU"
      },
      "execution_count": 2,
      "outputs": []
    },
    {
      "cell_type": "code",
      "source": [
        "\n",
        "def bene():#La función bene es lo que nos dara el beneficio por un día.\n",
        "    va=round(random.uniform(0, 1),4) #Regresa una v.a con distribución uniforme entre 0 y 1 redondeado a 4 digitos decimales.\n",
        "    \n",
        "    if 0<=va and va<0.20 :#Se crea una lista de ciclo's if para generar la simulación de ventas de periodicos.\n",
        "        ventassimu=30\n",
        "      \n",
        "    if 0.20<=va and va<0.45 :\n",
        "        ventassimu=40\n",
        "      \n",
        "    if 0.45<=va and va<0.70 :\n",
        "        ventassimu=50\n",
        "      \n",
        "\n",
        "    if 0.70<=va and va<0.90 :\n",
        "        ventassimu=60\n",
        "      \n",
        "\n",
        "    if 0.90<=va and va<1 :\n",
        "        ventassimu=70\n",
        "      \n",
        "    \n",
        "    if pedido < ventassimu :\n",
        "        ventasreales=pedido\n",
        "        ventasperdidas=ventassimu-pedido\n",
        "        periodicosnov=0\n",
        "        \n",
        "\n",
        "    if pedido >= ventassimu :\n",
        "        ventasreales=ventassimu\n",
        "        ventasperdidas=0\n",
        "        periodicosnov=pedido-ventasreales\n",
        "        \n",
        "    #print(\"ventas simuladas:\",ventassimu,\"ventas reales:\",ventasreales,\"ventas perdidas:\",ventasperdidas,\"Periodicos no vendidos:\",periodicosnov)\n",
        "    Beneficio=(puv*ventasreales)-(cua*pedido)-(cur*periodicosnov)-(cvp*ventasperdidas)\n",
        "    \n",
        "    return Beneficio #Nos arroja el beneficio\n",
        "   "
      ],
      "metadata": {
        "id": "aiZgE9OV7L-U"
      },
      "execution_count": 60,
      "outputs": []
    },
    {
      "cell_type": "code",
      "source": [
        "bene() #beneficio por día"
      ],
      "metadata": {
        "colab": {
          "base_uri": "https://localhost:8080/"
        },
        "id": "KQsnpXvl7XPu",
        "outputId": "ce798317-731c-487b-eb9d-2ed1251cc80c"
      },
      "execution_count": 73,
      "outputs": [
        {
          "output_type": "execute_result",
          "data": {
            "text/plain": [
              "-10.8"
            ]
          },
          "metadata": {},
          "execution_count": 73
        }
      ]
    },
    {
      "cell_type": "code",
      "source": [
        "def proba(n):                    \n",
        "    prob = []# Esta funcion devuelve esta lista \"prob\", arroja el beneficio promedio\n",
        "    bp = 0# seria la suma de los beneficios entre la cantidad de veces realizado la simulación. \n",
        "    for i in range(n):              \n",
        "        bp= (bp + bene() )\n",
        "        bpa=bp/(i+1)#print(i,\"Beneficio promedio:\",bpa)\n",
        "        prob.append(round(bpa,5))#Agregamos el beneficio promedio introducido a la lista\n",
        "                    \n",
        "    return prob"
      ],
      "metadata": {
        "id": "xrYPlyqg7w2M"
      },
      "execution_count": 75,
      "outputs": []
    },
    {
      "cell_type": "code",
      "source": [
        "X = proba(1000)#esto sería hacer un experimento."
      ],
      "metadata": {
        "id": "8_JtciC98Ae8"
      },
      "execution_count": 76,
      "outputs": []
    },
    {
      "cell_type": "code",
      "source": [
        "plt.plot(X)#graficamos "
      ],
      "metadata": {
        "colab": {
          "base_uri": "https://localhost:8080/",
          "height": 447
        },
        "id": "LX0aERrS8IZc",
        "outputId": "e2305947-b457-42bd-8661-7d7af58fd878"
      },
      "execution_count": 77,
      "outputs": [
        {
          "output_type": "execute_result",
          "data": {
            "text/plain": [
              "[<matplotlib.lines.Line2D at 0x7f668b0d3760>]"
            ]
          },
          "metadata": {},
          "execution_count": 77
        },
        {
          "output_type": "display_data",
          "data": {
            "text/plain": [
              "<Figure size 640x480 with 1 Axes>"
            ],
            "image/png": "[encoded data removed]"
          },
          "metadata": {}
        }
      ]
    },
    {
      "cell_type": "code",
      "source": [
        "print(np.mean(X), np.std(X))#imprimimos las "
      ],
      "metadata": {
        "colab": {
          "base_uri": "https://localhost:8080/"
        },
        "id": "IX9pqZkn8TXR",
        "outputId": "9455199b-ce80-43e4-991c-68b64d8f8c89"
      },
      "execution_count": 78,
      "outputs": [
        {
          "output_type": "stream",
          "name": "stdout",
          "text": [
            "-8.46413506 0.15546113300306416\n"
          ]
        }
      ]
    },
    {
      "cell_type": "markdown",
      "source": [
        "6.Repetimos **n** veces el experimento:"
      ],
      "metadata": {
        "id": "IZzLTwty8bpv"
      }
    },
    {
      "cell_type": "code",
      "source": [
        "def beneficiodia(n):#con esta función se realiza n veces el experimento.\n",
        "    lista=[]\n",
        "    for i in range(n):\n",
        "        X = proba(1000)  \n",
        "        s = np.mean(X)\n",
        "        lista.append(np.mean(s))\n",
        "    return lista"
      ],
      "metadata": {
        "id": "602IC0zd8phn"
      },
      "execution_count": 80,
      "outputs": []
    },
    {
      "cell_type": "code",
      "source": [
        "Y=beneficiodia(20)"
      ],
      "metadata": {
        "id": "ZX-PATA-80gS"
      },
      "execution_count": 81,
      "outputs": []
    },
    {
      "cell_type": "code",
      "source": [
        "plt.hist(Y)\n",
        "plt.show()"
      ],
      "metadata": {
        "colab": {
          "base_uri": "https://localhost:8080/",
          "height": 430
        },
        "id": "U7t5nHtk9St0",
        "outputId": "ef9cb33f-c1e0-44e4-e323-fa8fa4f1c25a"
      },
      "execution_count": 82,
      "outputs": [
        {
          "output_type": "display_data",
          "data": {
            "text/plain": [
              "<Figure size 640x480 with 1 Axes>"
            ],
            "image/png": "[encoded data removed]"
          },
          "metadata": {}
        }
      ]
    },
    {
      "cell_type": "code",
      "source": [
        "print(\"el beneficio promedio es:\",np.mean(Y),\"desviación estandar:\", np.std(Y)) # + ganancia & - perdida"
      ],
      "metadata": {
        "colab": {
          "base_uri": "https://localhost:8080/"
        },
        "id": "gY2Zq_vJ9cAk",
        "outputId": "5f1f3fd0-a2dc-4de4-c19c-99370af1b81f"
      },
      "execution_count": 88,
      "outputs": [
        {
          "output_type": "stream",
          "name": "stdout",
          "text": [
            "el beneficio promedio es: -8.280765789000002 desviación estandar: 0.09729297423023953\n"
          ]
        }
      ]
    },
    {
      "cell_type": "markdown",
      "source": [
        "7.Determinamos el intervalo de confiaza:"
      ],
      "metadata": {
        "id": "YF0jPTlq9ms3"
      }
    },
    {
      "cell_type": "code",
      "source": [
        "li=np.mean(Y) - 1.96*np.std(Y)/np.sqrt(50)\n",
        "ls=np.mean(Y) + 1.96*np.std(Y)/np.sqrt(50)\n",
        "if li <= np.mean(Y) <= ls:\n",
        "    print(li, \"<= Media:\", np.mean(Y), \"<=\", ls) \n",
        "    print(\"Se acepta la hipótesis con un nivel de confiabilidad del 95%\")\n",
        "    \n",
        "    "
      ],
      "metadata": {
        "colab": {
          "base_uri": "https://localhost:8080/"
        },
        "id": "3Bm72iFv94s5",
        "outputId": "3ef3e85c-1ddc-43c3-f897-8fac4ac0bdbf"
      },
      "execution_count": 89,
      "outputs": [
        {
          "output_type": "stream",
          "name": "stdout",
          "text": [
            "-8.307734025561286 <= Media: -8.280765789000002 <= -8.253797552438717\n",
            "Se acepta la hipótesis con un nivel de confiabilidad del 95%\n"
          ]
        }
      ]
    },
    {
      "cell_type": "markdown",
      "source": [
        "8.El pedido de periodicos que maximiza la función tiene que ser un pedido entre [ 0 , 70 ] de la fución de beneficio promedio,en vez de pedir 50 periodicos."
      ],
      "metadata": {
        "id": "2B-_4Ho9-CgJ"
      }
    },
    {
      "cell_type": "code",
      "source": [
        "lista2=[] #Con está lista, se tendra el beneficio de pedir de 0 hasta 70 periodicos.\n",
        "for i in range(71):\n",
        "    pedido=i\n",
        "    bene()\n",
        "    X = proba(1000)  \n",
        "    w=np.mean(X)\n",
        "    lista2.append(np.mean(w))\n",
        "    \n",
        "plt.hist(lista2) "
      ],
      "metadata": {
        "colab": {
          "base_uri": "https://localhost:8080/",
          "height": 381
        },
        "id": "uWCIw9FeFIUb",
        "outputId": "589cfd5d-9a2a-47cb-86bb-365f9d337567"
      },
      "execution_count": 90,
      "outputs": [
        {
          "output_type": "error",
          "ename": "UnboundLocalError",
          "evalue": "ignored",
          "traceback": [
            "\u001b[0;31m---------------------------------------------------------------------------\u001b[0m",
            "\u001b[0;31mUnboundLocalError\u001b[0m                         Traceback (most recent call last)",
            "\u001b[0;32m<ipython-input-90-349df19f0ae2>\u001b[0m in \u001b[0;36m<cell line: 2>\u001b[0;34m()\u001b[0m\n\u001b[1;32m      3\u001b[0m     \u001b[0mpedido\u001b[0m\u001b[0;34m=\u001b[0m\u001b[0mi\u001b[0m\u001b[0;34m\u001b[0m\u001b[0;34m\u001b[0m\u001b[0m\n\u001b[1;32m      4\u001b[0m     \u001b[0mbene\u001b[0m\u001b[0;34m(\u001b[0m\u001b[0;34m)\u001b[0m\u001b[0;34m\u001b[0m\u001b[0;34m\u001b[0m\u001b[0m\n\u001b[0;32m----> 5\u001b[0;31m     \u001b[0mX\u001b[0m \u001b[0;34m=\u001b[0m \u001b[0mproba\u001b[0m\u001b[0;34m(\u001b[0m\u001b[0;36m1000\u001b[0m\u001b[0;34m)\u001b[0m\u001b[0;34m\u001b[0m\u001b[0;34m\u001b[0m\u001b[0m\n\u001b[0m\u001b[1;32m      6\u001b[0m     \u001b[0mw\u001b[0m\u001b[0;34m=\u001b[0m\u001b[0mnp\u001b[0m\u001b[0;34m.\u001b[0m\u001b[0mmean\u001b[0m\u001b[0;34m(\u001b[0m\u001b[0mX\u001b[0m\u001b[0;34m)\u001b[0m\u001b[0;34m\u001b[0m\u001b[0;34m\u001b[0m\u001b[0m\n\u001b[1;32m      7\u001b[0m     \u001b[0mlista2\u001b[0m\u001b[0;34m.\u001b[0m\u001b[0mappend\u001b[0m\u001b[0;34m(\u001b[0m\u001b[0mnp\u001b[0m\u001b[0;34m.\u001b[0m\u001b[0mmean\u001b[0m\u001b[0;34m(\u001b[0m\u001b[0mw\u001b[0m\u001b[0;34m)\u001b[0m\u001b[0;34m)\u001b[0m\u001b[0;34m\u001b[0m\u001b[0;34m\u001b[0m\u001b[0m\n",
            "\u001b[0;32m<ipython-input-75-1824d492e44f>\u001b[0m in \u001b[0;36mproba\u001b[0;34m(n)\u001b[0m\n\u001b[1;32m      3\u001b[0m     \u001b[0mbp\u001b[0m \u001b[0;34m=\u001b[0m \u001b[0;36m0\u001b[0m\u001b[0;31m# seria la suma de los beneficios entre la cantidad de veces realizado la simulación.\u001b[0m\u001b[0;34m\u001b[0m\u001b[0;34m\u001b[0m\u001b[0m\n\u001b[1;32m      4\u001b[0m     \u001b[0;32mfor\u001b[0m \u001b[0mi\u001b[0m \u001b[0;32min\u001b[0m \u001b[0mrange\u001b[0m\u001b[0;34m(\u001b[0m\u001b[0mn\u001b[0m\u001b[0;34m)\u001b[0m\u001b[0;34m:\u001b[0m\u001b[0;34m\u001b[0m\u001b[0;34m\u001b[0m\u001b[0m\n\u001b[0;32m----> 5\u001b[0;31m         \u001b[0mbp\u001b[0m\u001b[0;34m=\u001b[0m \u001b[0;34m(\u001b[0m\u001b[0mbp\u001b[0m \u001b[0;34m+\u001b[0m \u001b[0mbene\u001b[0m\u001b[0;34m(\u001b[0m\u001b[0;34m)\u001b[0m \u001b[0;34m)\u001b[0m\u001b[0;34m\u001b[0m\u001b[0;34m\u001b[0m\u001b[0m\n\u001b[0m\u001b[1;32m      6\u001b[0m         \u001b[0mbpa\u001b[0m\u001b[0;34m=\u001b[0m\u001b[0mbp\u001b[0m\u001b[0;34m/\u001b[0m\u001b[0;34m(\u001b[0m\u001b[0mi\u001b[0m\u001b[0;34m+\u001b[0m\u001b[0;36m1\u001b[0m\u001b[0;34m)\u001b[0m\u001b[0;31m#print(i,\"Beneficio promedio:\",bpa)\u001b[0m\u001b[0;34m\u001b[0m\u001b[0;34m\u001b[0m\u001b[0m\n\u001b[1;32m      7\u001b[0m         \u001b[0mprob\u001b[0m\u001b[0;34m.\u001b[0m\u001b[0mappend\u001b[0m\u001b[0;34m(\u001b[0m\u001b[0mround\u001b[0m\u001b[0;34m(\u001b[0m\u001b[0mbpa\u001b[0m\u001b[0;34m,\u001b[0m\u001b[0;36m5\u001b[0m\u001b[0;34m)\u001b[0m\u001b[0;34m)\u001b[0m\u001b[0;31m#Agregamos el beneficio promedio introducido a la lista\u001b[0m\u001b[0;34m\u001b[0m\u001b[0;34m\u001b[0m\u001b[0m\n",
            "\u001b[0;32m<ipython-input-60-8a0c1b5e85e1>\u001b[0m in \u001b[0;36mbene\u001b[0;34m()\u001b[0m\n\u001b[1;32m     20\u001b[0m \u001b[0;34m\u001b[0m\u001b[0m\n\u001b[1;32m     21\u001b[0m \u001b[0;34m\u001b[0m\u001b[0m\n\u001b[0;32m---> 22\u001b[0;31m     \u001b[0;32mif\u001b[0m \u001b[0mpedido\u001b[0m \u001b[0;34m<\u001b[0m \u001b[0mventassimu\u001b[0m \u001b[0;34m:\u001b[0m\u001b[0;34m\u001b[0m\u001b[0;34m\u001b[0m\u001b[0m\n\u001b[0m\u001b[1;32m     23\u001b[0m         \u001b[0mventasreales\u001b[0m\u001b[0;34m=\u001b[0m\u001b[0mpedido\u001b[0m\u001b[0;34m\u001b[0m\u001b[0;34m\u001b[0m\u001b[0m\n\u001b[1;32m     24\u001b[0m         \u001b[0mventasperdidas\u001b[0m\u001b[0;34m=\u001b[0m\u001b[0mventassimu\u001b[0m\u001b[0;34m-\u001b[0m\u001b[0mpedido\u001b[0m\u001b[0;34m\u001b[0m\u001b[0;34m\u001b[0m\u001b[0m\n",
            "\u001b[0;31mUnboundLocalError\u001b[0m: local variable 'ventassimu' referenced before assignment"
          ]
        }
      ]
    },
    {
      "cell_type": "code",
      "source": [
        "max_value = None \n",
        "for num in lista2:\n",
        "    if (max_value is None or num > max_value): #La función max_value nos da el valor maximo de una lista.\n",
        "        max_value = num\n",
        "\n",
        "print(\"Pedir\",i, \"periodicos para obtener la maxima ganancia de:\", max_value,)"
      ],
      "metadata": {
        "colab": {
          "base_uri": "https://localhost:8080/"
        },
        "id": "G7Vfpq1yFQaM",
        "outputId": "cb8d422c-f067-484e-cd03-5e3f0e749712"
      },
      "execution_count": 87,
      "outputs": [
        {
          "output_type": "stream",
          "name": "stdout",
          "text": [
            "Pedir 70 periodicos para obtener la maxima ganancia de: 3.64370623\n"
          ]
        }
      ]
    }
  ]
}