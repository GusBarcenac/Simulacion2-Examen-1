{
  "nbformat": 4,
  "nbformat_minor": 0,
  "metadata": {
    "colab": {
      "provenance": [],
      "authorship_tag": "ABX9TyP/qM7kxn4I5wCCl6DYAMQY",
      "include_colab_link": true
    },
    "kernelspec": {
      "name": "python3",
      "display_name": "Python 3"
    },
    "language_info": {
      "name": "python"
    }
  },
  "cells": [
    {
      "cell_type": "markdown",
      "metadata": {
        "id": "view-in-github",
        "colab_type": "text"
      },
      "source": [
        "<a href=\"https://colab.research.google.com/github/GusBarcenac/Simulacion2-Examen-1/blob/main/ejercicio17programa.ipynb\" target=\"_parent\"><img src=\"https://colab.research.google.com/assets/colab-badge.svg\" alt=\"Open In Colab\"/></a>"
      ]
    },
    {
      "cell_type": "markdown",
      "source": [
        "**PROBLEMA 17**\n",
        "(6.4) El número de accidentes que se producen en una vía de circulación de una ciudad es, en promedio, de dos a la semana. Determínese:\n",
        "\n",
        "(a) Probabilidad de que no se registre ningún accidente en una semana determinada.\n",
        "\n",
        "(b) Probabilidad de que en un mes haya más de 5 accidentes.\n",
        "\n",
        "SOLUCION:"
      ],
      "metadata": {
        "id": "gxCKiZjdpfNv"
      }
    },
    {
      "cell_type": "code",
      "execution_count": 2,
      "metadata": {
        "colab": {
          "base_uri": "https://localhost:8080/"
        },
        "id": "BngXqSd3pCCx",
        "outputId": "28bd8a95-d5c5-4aa7-bc11-4a1688635a73"
      },
      "outputs": [
        {
          "output_type": "stream",
          "name": "stdout",
          "text": [
            "Probabilidad de que no haya accidentes en una semana: 0.1414\n",
            "Probabilidad de que haya más de 5 accidentes en un mes: 0.8095\n"
          ]
        }
      ],
      "source": [
        "import numpy as np\n",
        "\n",
        "#Simular la probabilidad de que no haya accidentes en una semana\n",
        "lambda_week = 2\n",
        "num_simulations = 10000\n",
        "accidents_per_week = np.random.poisson(lambda_week, num_simulations)\n",
        "prob_zero_accidents = sum(accidents_per_week == 0) / num_simulations\n",
        "print(\"Probabilidad de que no haya accidentes en una semana:\", prob_zero_accidents)\n",
        "\n",
        "#Simular la probabilidad de que haya más de 5 accidentes en un mes\n",
        "lambda_month = lambda_week * 4\n",
        "num_simulations = 10000\n",
        "accidents_per_month = np.random.poisson(lambda_month, num_simulations)\n",
        "prob_more_than_5_accidents = sum(accidents_per_month > 5) / num_simulations\n",
        "print(\"Probabilidad de que haya más de 5 accidentes en un mes:\", prob_more_than_5_accidents)"
      ]
    }
  ]
}