{
  "nbformat": 4,
  "nbformat_minor": 0,
  "metadata": {
    "colab": {
      "provenance": [],
      "authorship_tag": "ABX9TyOvTrPdeorU+dHwCIu87qDB",
      "include_colab_link": true
    },
    "kernelspec": {
      "name": "python3",
      "display_name": "Python 3"
    },
    "language_info": {
      "name": "python"
    }
  },
  "cells": [
    {
      "cell_type": "markdown",
      "metadata": {
        "id": "view-in-github",
        "colab_type": "text"
      },
      "source": [
        "<a href=\"https://colab.research.google.com/github/GusBarcenac/Simulacion2-Examen-1/blob/main/ejercicio16.ipynb\" target=\"_parent\"><img src=\"https://colab.research.google.com/assets/colab-badge.svg\" alt=\"Open In Colab\"/></a>"
      ]
    },
    {
      "cell_type": "code",
      "execution_count": null,
      "metadata": {
        "id": "5YoekIdaX5U6"
      },
      "outputs": [],
      "source": []
    },
    {
      "cell_type": "markdown",
      "source": [
        "**EJERCICIO 16**\n",
        "\n",
        "Dos personas han quedado citas en un determinado lugar. Ambas tienen la misma\n",
        "probabilidad de llegar al lugar de la cita en el intervalo de tiempo [0, 30].\n",
        "Determínese la probabilidad de que el tiempo que una persona espere a la otra sea\n",
        "como máximo 10\n",
        "\n",
        "\n",
        "1.Identificación de las variables: Se tendran Dos variables aleatorias independientes , simulando a las 2 personas participantes.\n",
        "\n",
        "2.Se especifica que x1, x2 ~ U[0,30].\n",
        "\n",
        "3.Generando x1 ~ U(0,30) &  x2 ~ U(0,30).\n",
        "\n",
        "4.El modelo del sistema consistira en comparar el tiempo de llegada de las persona 1 y de la persona 2, si la diferencia de tiempo de las personas es menor a \n",
        "10 min (|x1 - x2|=< 10) se toma como un evento positivo.\n",
        "\n",
        "\n"
      ],
      "metadata": {
        "id": "ahgGRV-nX6ap"
      }
    },
    {
      "cell_type": "code",
      "source": [
        "import numpy as np\n",
        "import random\n",
        "import matplotlib.pyplot as plt\n",
        "from scipy.stats import norm"
      ],
      "metadata": {
        "id": "5-fn5zLbd7Db"
      },
      "execution_count": 1,
      "outputs": []
    },
    {
      "cell_type": "code",
      "source": [
        "def llegada():\n",
        "    exito=0 \n",
        "    x_1=round(random.uniform(0, 30),2) #Regresa una v.a uniforme entre 0 y 30 redondeado a 2 digitos decimales.\n",
        "    x_2=round(random.uniform(0, 30),2) #simulando que es el tiempo medido en minutos con segundos.\n",
        "    if abs(x_1-x_2)<=10:\n",
        "        exito+=1 #Si el tiempo de espera entre las personas esta entre 0 y 10 min. entonces se toma el experimento como \"exito\".\n",
        "    return exito"
      ],
      "metadata": {
        "id": "B5OG5TF2eIcs"
      },
      "execution_count": 2,
      "outputs": []
    },
    {
      "cell_type": "code",
      "source": [
        "\n",
        "\n",
        "llegada()\n",
        "\n"
      ],
      "metadata": {
        "colab": {
          "base_uri": "https://localhost:8080/"
        },
        "id": "zXcHPFsueSxe",
        "outputId": "a1aed556-b735-40b9-8d15-c91c331b0094"
      },
      "execution_count": 3,
      "outputs": [
        {
          "output_type": "execute_result",
          "data": {
            "text/plain": [
              "1"
            ]
          },
          "metadata": {},
          "execution_count": 3
        }
      ]
    },
    {
      "cell_type": "markdown",
      "source": [
        "5.Diseñe el experimento : Para estimar la probabilidad de que el tiempo de llegada entre la persona 1 y la persona 2 sea menor o igual a 10 min, ejecutamos\n",
        "veces la función anterior y calculamos de manera acumulativa la probabilidad de llegada."
      ],
      "metadata": {
        "id": "1klv78uaevOF"
      }
    },
    {
      "cell_type": "code",
      "source": [
        "def prob_llegada(n):                    \n",
        "    prob = [] # Esta funcion devuelve esta lista \"prob\", con los valores de la probabilidad\n",
        "    exito1 = 0 # estimada al contar las veces que hay interferencia y dividir entre las veces que \n",
        "    for i in range(n): # se ha reptido la observacion mientras aumenta el numero de iteraciones.\n",
        "        exito1 += llegada()\n",
        "        prob.append(exito1/(i+1))\n",
        "    return prob"
      ],
      "metadata": {
        "id": "suN6j5X9fBrL"
      },
      "execution_count": 4,
      "outputs": []
    },
    {
      "cell_type": "code",
      "source": [
        "\n",
        "\n",
        "X = prob_llegada(1500) # Asignamos valores a n y realizamos el experimento\n",
        "\n"
      ],
      "metadata": {
        "id": "s7KydcMsfNzT"
      },
      "execution_count": 5,
      "outputs": []
    },
    {
      "cell_type": "code",
      "source": [
        "plt.plot(X) # La gráfica muestra que la convergencia está garantizada con 500 iteraciones. Recordamos, diferentes ejecuciones darán resultados distintos"
      ],
      "metadata": {
        "colab": {
          "base_uri": "https://localhost:8080/",
          "height": 447
        },
        "id": "D13YlkiGfUsU",
        "outputId": "29c4f2f0-7f65-4b6a-f041-cb2e26c620c7"
      },
      "execution_count": 6,
      "outputs": [
        {
          "output_type": "execute_result",
          "data": {
            "text/plain": [
              "[<matplotlib.lines.Line2D at 0x7f0f9807c520>]"
            ]
          },
          "metadata": {},
          "execution_count": 6
        },
        {
          "output_type": "display_data",
          "data": {
            "text/plain": [
              "<Figure size 640x480 with 1 Axes>"
            ],
            "image/png": "[encoded data removed]"
          },
          "metadata": {}
        }
      ]
    },
    {
      "cell_type": "code",
      "source": [
        "print(np.mean(X), np.std(X))"
      ],
      "metadata": {
        "colab": {
          "base_uri": "https://localhost:8080/"
        },
        "id": "1Z3LQeIWf8zY",
        "outputId": "afa0fcf1-3c01-4ead-a715-c45ba74b0fd6"
      },
      "execution_count": 7,
      "outputs": [
        {
          "output_type": "stream",
          "name": "stdout",
          "text": [
            "0.5532488158215324 0.042968102665863574\n"
          ]
        }
      ]
    },
    {
      "cell_type": "markdown",
      "source": [
        "6. Repita el experimento n veces: a traves del sig.codigo.\n",
        "\n"
      ],
      "metadata": {
        "id": "1WMsLew-gFof"
      }
    },
    {
      "cell_type": "code",
      "source": [
        "def modelo(n):\n",
        "    lista=[]\n",
        "    for i in range(n):\n",
        "        s = prob_llegada(500)\n",
        "        lista.append(np.mean(s))\n",
        "    return lista"
      ],
      "metadata": {
        "id": "CFN6-Edhgli6"
      },
      "execution_count": 8,
      "outputs": []
    },
    {
      "cell_type": "code",
      "source": [
        "Y=modelo(120)"
      ],
      "metadata": {
        "id": "eBuTbGCHgwEi"
      },
      "execution_count": 9,
      "outputs": []
    },
    {
      "cell_type": "code",
      "source": [
        "plt.hist(Y)\n",
        "plt.show()"
      ],
      "metadata": {
        "colab": {
          "base_uri": "https://localhost:8080/",
          "height": 430
        },
        "id": "eE8ie8fBgy5A",
        "outputId": "61bf0f21-279f-450e-ccf8-12bee5efabd8"
      },
      "execution_count": 10,
      "outputs": [
        {
          "output_type": "display_data",
          "data": {
            "text/plain": [
              "<Figure size 640x480 with 1 Axes>"
            ],
            "image/png": "[encoded data removed]"
          },
          "metadata": {}
        }
      ]
    },
    {
      "cell_type": "code",
      "source": [
        "\n",
        "\n",
        "print(np.mean(Y), np.std(Y))\n",
        "\n"
      ],
      "metadata": {
        "colab": {
          "base_uri": "https://localhost:8080/"
        },
        "id": "f9ShgI2Jg-hT",
        "outputId": "35c905dc-2f2b-4e28-8aa0-df4c7ad24a8b"
      },
      "execution_count": 11,
      "outputs": [
        {
          "output_type": "stream",
          "name": "stdout",
          "text": [
            "0.5587511561771412 0.03397396707905245\n"
          ]
        }
      ]
    },
    {
      "cell_type": "markdown",
      "source": [
        "7. Intervalo de confianza"
      ],
      "metadata": {
        "id": "ETx62l9qhEXx"
      }
    },
    {
      "cell_type": "code",
      "source": [
        "np.mean(Y)\n",
        "y1=np.mean(Y) - 1.96*np.std(Y)/np.sqrt(50)\n",
        "y2=np.mean(Y) + 1.96*np.std(Y)/np.sqrt(50)\n",
        "\n",
        "if y1<np.mean(Y)<y2:\n",
        "    print(y1, \"<\",np.mean(Y),\"<\",y2)\n",
        "    print(\"Se acepta la hipotesis, confiabilidad del 95%\")\n",
        "else:\n",
        "        print(\"No cumple la hipótesis nula\")"
      ],
      "metadata": {
        "colab": {
          "base_uri": "https://localhost:8080/"
        },
        "id": "QJwggOe5hO4o",
        "outputId": "55c4ceeb-d577-404d-aaa2-15633b69b43b"
      },
      "execution_count": 12,
      "outputs": [
        {
          "output_type": "stream",
          "name": "stdout",
          "text": [
            "0.5493340529550219 < 0.5587511561771412 < 0.5681682593992605\n",
            "Se acepta la hipotesis, confiabilidad del 95%\n"
          ]
        }
      ]
    }
  ]
}