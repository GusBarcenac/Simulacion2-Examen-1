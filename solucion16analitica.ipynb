{
  "nbformat": 4,
  "nbformat_minor": 0,
  "metadata": {
    "colab": {
      "provenance": [],
      "authorship_tag": "ABX9TyMIlgKrS4ZAg2fkkTWqjS+g",
      "include_colab_link": true
    },
    "kernelspec": {
      "name": "python3",
      "display_name": "Python 3"
    },
    "language_info": {
      "name": "python"
    }
  },
  "cells": [
    {
      "cell_type": "markdown",
      "metadata": {
        "id": "view-in-github",
        "colab_type": "text"
      },
      "source": [
        "<a href=\"https://colab.research.google.com/github/GusBarcenac/Simulacion2-Examen-1/blob/main/solucion16analitica.ipynb\" target=\"_parent\"><img src=\"https://colab.research.google.com/assets/colab-badge.svg\" alt=\"Open In Colab\"/></a>"
      ]
    },
    {
      "cell_type": "markdown",
      "source": [
        "**Caso 1:** Supongamos que la primera persona llega en algún momento dentro del intervalo [0, 20]. En este caso, la segunda persona tiene la oportunidad de llegar dentro de los próximos 10 minutos para que el tiempo de espera sea <= 10 minutos. \n",
        "La probabilidad de que la segunda persona llegue dentro de los próximos 10 minutos es (10/30) = 1/3, ya que la distribución de llegada es uniforme en el intervalo [0, 30].\n",
        "\n",
        "**Caso 2:** Supongamos que la primera persona llega en algún momento dentro del intervalo [20, 30]. En este caso, la segunda persona solo tiene la oportunidad de llegar dentro de los próximos 10 minutos para que el tiempo de espera sea <= 10 minutos.\n",
        "La probabilidad de que la segunda persona llegue dentro de los próximos 10 minutos es ((30 - tiempo de llegada de la primera persona)/30) = ((30 - 20)/30) = 1/3.\n",
        "Dado que estos dos casos son mutuamente excluyentes y no se superponen, podemos sumar las probabilidades:\n",
        "P(tiempo de espera <= 10 minutos) = P(Caso 1) + P(Caso 2) = 1/3 + 1/3 = 2/3.\n",
        "Por lo tanto, la probabilidad de que el tiempo de espera desde que llega una persona sea <= 10 minutos es de 2/3, o aproximadamente 0.667"
      ],
      "metadata": {
        "id": "WdNmyI--d_No"
      }
    },
    {
      "cell_type": "code",
      "source": [],
      "metadata": {
        "id": "jvcdDoOZecPF"
      },
      "execution_count": null,
      "outputs": []
    }
  ]
}